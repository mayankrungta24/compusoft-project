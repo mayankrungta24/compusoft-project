{
 "cells": [
  {
   "cell_type": "code",
   "execution_count": 1,
   "metadata": {},
   "outputs": [],
   "source": [
    "#####################################################################################################################                                                                                                                   #\n",
    "#                                            Name: Mayank Rungta                                                    #\n",
    "#                                              Inueron Classes                                                      #\n",
    "#                                                Assignment 2                                                       #\n",
    "#####################################################################################################################"
   ]
  },
  {
   "cell_type": "markdown",
   "metadata": {},
   "source": [
    "Q1. Create the below pattern using nested for loop in Python. \n"
   ]
  },
  {
   "cell_type": "code",
   "execution_count": 2,
   "metadata": {},
   "outputs": [],
   "source": [
    "# *\n",
    "# * *\n",
    "# * * *\n",
    "# * * * *\n",
    "# * * * * *\n",
    "# * * * *\n",
    "# * * * \n",
    "# * * \n",
    "# * "
   ]
  },
  {
   "cell_type": "code",
   "execution_count": 10,
   "metadata": {},
   "outputs": [
    {
     "name": "stdout",
     "output_type": "stream",
     "text": [
      "* \b\n",
      "* * \b\n",
      "* * * \b\n",
      "* * * * \b\n",
      "* * * * * \b\n",
      "* * * * \b\n",
      "* * * \b\n",
      "* * \b\n",
      "* \b\n"
     ]
    }
   ],
   "source": [
    "a=[1,2,3,4,5,4,3,2,1]                                         # printing sequence list\n",
    "for i in a:                                                   # loop for number of sequences\n",
    "    for j in range(0,i):                                    # loop for number of '*' in each sequence\n",
    "        print(\"*\",end=\" \")\n",
    "    print(\"\\b\")\n",
    "    "
   ]
  },
  {
   "cell_type": "markdown",
   "metadata": {},
   "source": [
    "Q2. Write a Python program to reverse a word after accepting the input from the user.\n",
    "\n"
   ]
  },
  {
   "cell_type": "code",
   "execution_count": 4,
   "metadata": {},
   "outputs": [
    {
     "name": "stdout",
     "output_type": "stream",
     "text": [
      "Enter the word : mayank\n"
     ]
    },
    {
     "data": {
      "text/plain": [
       "'knayam'"
      ]
     },
     "execution_count": 4,
     "metadata": {},
     "output_type": "execute_result"
    }
   ],
   "source": [
    "input_= input(\"Enter the word : \")                               # taking input for the word\n",
    "input_=list(input_)\n",
    "input_.reverse()\n",
    "output=\"\"\n",
    "for i in input_:\n",
    "    output=output+i\n",
    "output\n"
   ]
  },
  {
   "cell_type": "code",
   "execution_count": null,
   "metadata": {},
   "outputs": [],
   "source": []
  },
  {
   "cell_type": "code",
   "execution_count": null,
   "metadata": {},
   "outputs": [],
   "source": []
  }
 ],
 "metadata": {
  "kernelspec": {
   "display_name": "Python 3",
   "language": "python",
   "name": "python3"
  },
  "language_info": {
   "codemirror_mode": {
    "name": "ipython",
    "version": 3
   },
   "file_extension": ".py",
   "mimetype": "text/x-python",
   "name": "python",
   "nbconvert_exporter": "python",
   "pygments_lexer": "ipython3",
   "version": "3.8.3"
  }
 },
 "nbformat": 4,
 "nbformat_minor": 4
}
